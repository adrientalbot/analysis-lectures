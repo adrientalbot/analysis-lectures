{
 "cells": [
  {
   "cell_type": "markdown",
   "metadata": {},
   "source": [
    "The third lecture is a presentation about the insights gotten from a TED Talks data analysis.\n",
    "\n",
    "After watching the video...\n",
    "\n",
    "What do you think about the visualisations that the speaker used to present his insights? Which one is your favorite?\n",
    "What's your opinion about the speech? Did he get his point across?\n",
    "Was the presentation about a trascendental topic? Did it keep you glued to the screen?\n",
    "Is there anything you think the speaker missed, something he could improve or do yo have some to-do ideas for him?"
   ]
  },
  {
   "cell_type": "markdown",
   "metadata": {},
   "source": [
    "The visualization is great. \n",
    "My favorite visualization is the one that shows the topic/reaction graph.  \n",
    "The speech is interesting (and the reaction of the audience shows that) since he explains the insights raw data can bring by analyzing it ('most favoride Ted Speaker', preferred words and sentences to use etc.) \n",
    "The presentation is innovative as well.   \n",
    "Maybe the speaker could have done a demonstration of the 'get pad' in front of the audience!"
   ]
  },
  {
   "cell_type": "code",
   "execution_count": null,
   "metadata": {},
   "outputs": [],
   "source": []
  },
  {
   "cell_type": "code",
   "execution_count": null,
   "metadata": {},
   "outputs": [],
   "source": []
  }
 ],
 "metadata": {
  "kernelspec": {
   "display_name": "Python 3",
   "language": "python",
   "name": "python3"
  },
  "language_info": {
   "codemirror_mode": {
    "name": "ipython",
    "version": 3
   },
   "file_extension": ".py",
   "mimetype": "text/x-python",
   "name": "python",
   "nbconvert_exporter": "python",
   "pygments_lexer": "ipython3",
   "version": "3.7.1"
  }
 },
 "nbformat": 4,
 "nbformat_minor": 2
}
